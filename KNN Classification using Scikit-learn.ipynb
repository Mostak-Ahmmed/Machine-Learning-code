{
  "nbformat": 4,
  "nbformat_minor": 0,
  "metadata": {
    "colab": {
      "provenance": []
    },
    "kernelspec": {
      "name": "python3",
      "display_name": "Python 3"
    },
    "language_info": {
      "name": "python"
    }
  },
  "cells": [
    {
      "cell_type": "markdown",
      "source": [
        "**REPORT CODE**"
      ],
      "metadata": {
        "id": "jYZwGkfH4w6A"
      }
    },
    {
      "cell_type": "code",
      "execution_count": null,
      "metadata": {
        "colab": {
          "base_uri": "https://localhost:8080/"
        },
        "id": "7tStn_P03YQ-",
        "outputId": "6bd873f5-3f1a-4e39-84cb-784ff5c06ead"
      },
      "outputs": [
        {
          "output_type": "stream",
          "name": "stdout",
          "text": [
            "Accuracy: 1.0\n"
          ]
        }
      ],
      "source": [
        "from sklearn.datasets import load_iris\n",
        "from sklearn.linear_model import LogisticRegression\n",
        "from sklearn.model_selection import train_test_split\n",
        "from sklearn.metrics import accuracy_score\n",
        "\n",
        "# load the iris dataset\n",
        "iris = load_iris()\n",
        "\n",
        "# split the data into training and testing sets\n",
        "X_train, X_test, y_train, y_test = train_test_split(iris.data, iris.target, test_size=0.3, random_state=42)\n",
        "\n",
        "# create a logistic regression model\n",
        "log_reg = LogisticRegression()\n",
        "\n",
        "# fit the model on the training data\n",
        "log_reg.fit(X_train, y_train)\n",
        "\n",
        "# make predictions on the testing data\n",
        "y_pred = log_reg.predict(X_test)\n",
        "\n",
        "# calculate the accuracy of the model\n",
        "accuracy = accuracy_score(y_test, y_pred)\n",
        "\n",
        "print(\"Accuracy:\", accuracy)\n"
      ]
    },
    {
      "cell_type": "markdown",
      "source": [
        "**SIR ER CODE HERE**"
      ],
      "metadata": {
        "id": "LpmzUtBJ4-3h"
      }
    },
    {
      "cell_type": "code",
      "source": [],
      "metadata": {
        "id": "lcZYPk-h6V6l"
      },
      "execution_count": null,
      "outputs": []
    },
    {
      "cell_type": "code",
      "source": [
        "# Importing libraries\n",
        "import numpy as np\n",
        "import pandas as pd\n",
        "from sklearn.model_selection import train_test_split\n",
        "import warnings\n",
        "warnings.filterwarnings( \"ignore\" )\n",
        "\n",
        "# to compare our model's accuracy with sklearn model\n",
        "from sklearn.linear_model import LogisticRegression\n",
        "# Logistic Regression\n",
        "class LogitRegression() :\n",
        "\tdef __init__( self, learning_rate, iterations ) :\n",
        "\t\tself.learning_rate = learning_rate\n",
        "\t\tself.iterations = iterations\n",
        "\n",
        "\t# Function for model training\n",
        "\tdef fit( self, X, Y ) :\n",
        "\t\t# no_of_training_examples, no_of_features\n",
        "\t\tself.m, self.n = X.shape\n",
        "\t\t# weight initialization\n",
        "\t\tself.W = np.zeros( self.n )\n",
        "\t\tself.b = 0\n",
        "\t\tself.X = X\n",
        "\t\tself.Y = Y\n",
        "\n",
        "\t\t# gradient descent learning\n",
        "\n",
        "\t\tfor i in range( self.iterations ) :\n",
        "\t\t\tself.update_weights()\n",
        "\t\treturn self\n",
        "\n",
        "\t# Helper function to update weights in gradient descent\n",
        "\n",
        "\tdef update_weights( self ) :\n",
        "\t\tA = 1 / ( 1 + np.exp( - ( self.X.dot( self.W ) + self.b ) ) )\n",
        "\n",
        "\t\t# calculate gradients\n",
        "\t\ttmp = ( A - self.Y.T )\n",
        "\t\ttmp = np.reshape( tmp, self.m )\n",
        "\t\tdW = np.dot( self.X.T, tmp ) / self.m\n",
        "\t\tdb = np.sum( tmp ) / self.m\n",
        "\n",
        "\t\t# update weights\n",
        "\t\tself.W = self.W - self.learning_rate * dW\n",
        "\t\tself.b = self.b - self.learning_rate * db\n",
        "\n",
        "\t\treturn self\n",
        "\n",
        "\t# Hypothetical function h( x )\n",
        "\n",
        "\tdef predict( self, X ) :\n",
        "\t\tZ = 1 / ( 1 + np.exp( - ( X.dot( self.W ) + self.b ) ) )\n",
        "\t\tY = np.where( Z > 0.5, 1, 0 )\n",
        "\t\treturn Y\n",
        "\n",
        "\n",
        "# Driver code\n",
        "\n",
        "def main() :\n",
        "\n",
        "\t# Importing dataset\n",
        "\tdf = pd.read_csv( \"diabetes.csv\" )\n",
        "\tX = df.iloc[:,:-1].values\n",
        "\tY = df.iloc[:,-1:].values\n",
        "\n",
        "\t# Splitting dataset into train and test set\n",
        "\tX_train, X_test, Y_train, Y_test = train_test_split(\n",
        "\tX, Y, test_size = 1/3, random_state = 0 )\n",
        "\n",
        "\t# Model training\n",
        "\tmodel = LogitRegression( learning_rate = 0.01, iterations = 1000 )\n",
        "\n",
        "\tmodel.fit( X_train, Y_train )\n",
        "\tmodel1 = LogisticRegression()\n",
        "\tmodel1.fit( X_train, Y_train)\n",
        "\n",
        "\t# Prediction on test set\n",
        "\tY_pred = model.predict( X_test )\n",
        "\tY_pred1 = model1.predict( X_test )\n",
        "\n",
        "\t# measure performance\n",
        "\tcorrectly_classified = 0\n",
        "\tcorrectly_classified1 = 0\n",
        "\n",
        "\t# counter\n",
        "\tcount = 0\n",
        "\tfor count in range( np.size( Y_pred ) ) :\n",
        "\n",
        "\t\tif Y_test[count] == Y_pred[count] :\n",
        "\t\t\tcorrectly_classified = correctly_classified + 1\n",
        "\n",
        "\t\tif Y_test[count] == Y_pred1[count] :\n",
        "\t\t\tcorrectly_classified1 = correctly_classified1 + 1\n",
        "\n",
        "\t\tcount = count + 1\n",
        "\n",
        "\tprint( \"Accuracy on test set by our model\t : \", (\n",
        "\tcorrectly_classified / count ) * 100 )\n",
        "\tprint( \"Accuracy on test set by sklearn model : \", (\n",
        "\tcorrectly_classified1 / count ) * 100 )\n",
        "\n",
        "\n",
        "if __name__ == \"__main__\" :\n",
        "\tmain()\n"
      ],
      "metadata": {
        "colab": {
          "base_uri": "https://localhost:8080/"
        },
        "id": "TDrFvoLEmcRj",
        "outputId": "598756e8-4de9-4ff8-9a2f-78c475d52b65"
      },
      "execution_count": null,
      "outputs": [
        {
          "output_type": "stream",
          "name": "stdout",
          "text": [
            "Accuracy on test set by our model\t :  58.333333333333336\n",
            "Accuracy on test set by sklearn model :  61.111111111111114\n"
          ]
        }
      ]
    },
    {
      "cell_type": "markdown",
      "source": [
        "**Lab task here**"
      ],
      "metadata": {
        "id": "mOwJJgN_6VEG"
      }
    },
    {
      "cell_type": "markdown",
      "source": [
        "**Problem 1: Logistic Regression from Scratch (Iris Dataset)**\n",
        "\n",
        "This problem involves implementing logistic regression from scratch and comparing it with scikit-learn."
      ],
      "metadata": {
        "id": "XcX-r0jJ6iAE"
      }
    },
    {
      "cell_type": "code",
      "source": [
        "# Problem 1: Logistic Regression from Scratch\n",
        "\n",
        "import numpy as np\n",
        "import pandas as pd\n",
        "from sklearn.datasets import load_iris\n",
        "from sklearn.model_selection import train_test_split\n",
        "from sklearn.metrics import accuracy_score\n",
        "\n",
        "# Load the iris dataset\n",
        "iris = load_iris()\n",
        "X = iris.data[:, [0, 2]]  # Sepal Length and Petal Width\n",
        "y = (iris.target == 2).astype(int)  # Classifying if it's Iris-Virginica\n",
        "\n",
        "# Split the data\n",
        "X_train, X_test, y_train, y_test = train_test_split(X, y, test_size=0.3, random_state=42)\n",
        "\n",
        "# Logistic Regression from scratch\n",
        "class LogisticRegressionScratch:\n",
        "    def __init__(self, learning_rate=0.01, num_iterations=1000):\n",
        "        self.learning_rate = learning_rate\n",
        "        self.num_iterations = num_iterations\n",
        "        self.weights = np.zeros(X.shape[1])\n",
        "        self.bias = 0\n",
        "\n",
        "    def sigmoid(self, z):\n",
        "        return 1 / (1 + np.exp(-z))\n",
        "\n",
        "    def fit(self, X, y):\n",
        "        for _ in range(self.num_iterations):\n",
        "            linear_model = np.dot(X, self.weights) + self.bias\n",
        "            y_predicted = self.sigmoid(linear_model)\n",
        "            dw = (1 / len(y)) * np.dot(X.T, (y_predicted - y))\n",
        "            db = (1 / len(y)) * np.sum(y_predicted - y)\n",
        "            self.weights -= self.learning_rate * dw\n",
        "            self.bias -= self.learning_rate * db\n",
        "\n",
        "    def predict(self, X):\n",
        "        linear_model = np.dot(X, self.weights) + self.bias\n",
        "        y_predicted = self.sigmoid(linear_model)\n",
        "        return [1 if i > 0.5 else 0 for i in y_predicted]\n",
        "\n",
        "# Train the model\n",
        "model_scratch = LogisticRegressionScratch()\n",
        "model_scratch.fit(X_train, y_train)\n",
        "y_pred_scratch = model_scratch.predict(X_test)\n",
        "\n",
        "# Accuracy\n",
        "accuracy_scratch = accuracy_score(y_test, y_pred_scratch)\n",
        "print(\"Custom Logistic Regression Accuracy:\", accuracy_scratch)\n"
      ],
      "metadata": {
        "colab": {
          "base_uri": "https://localhost:8080/"
        },
        "id": "d-frHw5z5C8b",
        "outputId": "ef155d03-d02b-4def-fc99-108a98425aae"
      },
      "execution_count": null,
      "outputs": [
        {
          "output_type": "stream",
          "name": "stdout",
          "text": [
            "Custom Logistic Regression Accuracy: 0.9555555555555556\n"
          ]
        }
      ]
    },
    {
      "cell_type": "markdown",
      "source": [
        "**Evaluate the model performance using Sepal Length vs Petal Width only**"
      ],
      "metadata": {
        "id": "KEz9sBPV6mUZ"
      }
    },
    {
      "cell_type": "code",
      "source": [
        "# importing packages\n",
        "import pandas as pd\n",
        "import matplotlib.pyplot as plt\n",
        "from sklearn import preprocessing\n",
        "import seaborn as sns\n",
        "\n",
        "# loading data\n",
        "iris = pd.read_csv(\"/content/iris.csv\")\n",
        "print(iris.head())\n"
      ],
      "metadata": {
        "colab": {
          "base_uri": "https://localhost:8080/"
        },
        "id": "5pvGuondnBLi",
        "outputId": "ab3bbb16-39f8-42f1-f7fd-2b7c0cdaf2e5"
      },
      "execution_count": null,
      "outputs": [
        {
          "output_type": "stream",
          "name": "stdout",
          "text": [
            "   sepal_length  sepal_width  petal_length  petal_width species\n",
            "0           5.1          3.5           1.4          0.2  setosa\n",
            "1           4.9          3.0           1.4          0.2  setosa\n",
            "2           4.7          3.2           1.3          0.2  setosa\n",
            "3           4.6          3.1           1.5          0.2  setosa\n",
            "4           5.0          3.6           1.4          0.2  setosa\n"
          ]
        }
      ]
    },
    {
      "cell_type": "code",
      "source": [
        "le = preprocessing.LabelEncoder()\n",
        "\n",
        "# Converting string labels of\n",
        "# the 'species' column into numbers.\n",
        "iris.species = le.fit_transform(iris.species)\n",
        "print(iris.head())\n"
      ],
      "metadata": {
        "colab": {
          "base_uri": "https://localhost:8080/"
        },
        "id": "I7R5f89dnPuy",
        "outputId": "ec6cba1c-be0a-4919-93f8-8768167a3427"
      },
      "execution_count": null,
      "outputs": [
        {
          "output_type": "stream",
          "name": "stdout",
          "text": [
            "   sepal_length  sepal_width  petal_length  petal_width  species\n",
            "0           5.1          3.5           1.4          0.2        0\n",
            "1           4.9          3.0           1.4          0.2        0\n",
            "2           4.7          3.2           1.3          0.2        0\n",
            "3           4.6          3.1           1.5          0.2        0\n",
            "4           5.0          3.6           1.4          0.2        0\n"
          ]
        }
      ]
    },
    {
      "cell_type": "code",
      "source": [
        "# plotting a scatterplot using seaborn\n",
        "sns.scatterplot(data=iris, x='sepal_length',\n",
        "\t\t\t\ty='petal_width', hue='species')\n",
        "plt.plot()\n"
      ],
      "metadata": {
        "colab": {
          "base_uri": "https://localhost:8080/",
          "height": 467
        },
        "id": "wzy9LB-JnthD",
        "outputId": "e3127b92-e713-4519-a93a-f9e6afd62145"
      },
      "execution_count": null,
      "outputs": [
        {
          "output_type": "execute_result",
          "data": {
            "text/plain": [
              "[]"
            ]
          },
          "metadata": {},
          "execution_count": 6
        },
        {
          "output_type": "display_data",
          "data": {
            "text/plain": [
              "<Figure size 640x480 with 1 Axes>"
            ],
            "image/png": "[encoded data removed]"
          },
          "metadata": {}
        }
      ]
    },
    {
      "cell_type": "markdown",
      "source": [
        "# **Logistic Regression with Scratch**\n",
        "\n",
        "\n",
        "[Kaggle link](https://www.kaggle.com/code/sugataghosh/implementing-logistic-regression-from-scratch)\n",
        "\n",
        "\n",
        "\n",
        "# Linear Regression\n",
        "\n",
        "\n",
        "[Kaggle Link](https://www.kaggle.com/code/lampubhutia/iris-linear-regression)"
      ],
      "metadata": {
        "id": "ILJCisjWodRR"
      }
    }
  ]
}